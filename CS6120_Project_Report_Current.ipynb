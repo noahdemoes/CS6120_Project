{
 "cells": [
  {
   "cell_type": "markdown",
   "metadata": {
    "ExecuteTime": {
     "end_time": "2019-10-21T22:41:15.712907Z",
     "start_time": "2019-10-21T22:41:13.597175Z"
    }
   },
   "source": [
    "# CS6120 Project: Doctor Note Diagnosis Classification"
   ]
  },
  {
   "cell_type": "markdown",
   "metadata": {},
   "source": [
    "## Data Import and Cleaning"
   ]
  },
  {
   "cell_type": "code",
   "execution_count": 1,
   "metadata": {},
   "outputs": [
    {
     "name": "stderr",
     "output_type": "stream",
     "text": [
      "Using TensorFlow backend.\n"
     ]
    }
   ],
   "source": [
    "import pickle\n",
    "import re\n",
    "import pandas as pd\n",
    "from sklearn.ensemble import RandomForestClassifier\n",
    "import numpy as np\n",
    "import nltk\n",
    "from nltk.corpus import stopwords\n",
    "\n",
    "import seaborn as sns\n",
    "import matplotlib.pyplot as plt\n",
    "from sklearn.neural_network import MLPClassifier\n",
    "from tqdm import tqdm\n",
    "from nltk.tokenize import word_tokenize\n",
    "from sklearn.model_selection import train_test_split\n",
    "from sklearn.linear_model import LogisticRegression\n",
    "from gensim.models import FastText\n",
    "from nltk.tokenize import sent_tokenize, word_tokenize\n",
    "from sklearn.metrics import confusion_matrix, f1_score\n",
    "from keras.models import Sequential, Model\n",
    "from keras.layers import Dense, Activation, Dropout, Conv1D, Flatten, MaxPooling1D, AveragePooling1D, Concatenate, LeakyReLU\n",
    "from keras.utils.vis_utils import plot_model\n",
    "import pydot\n",
    "from gensim.models import Doc2Vec\n",
    "from sklearn import utils\n",
    "from sklearn.model_selection import train_test_split\n",
    "import gensim\n",
    "from sklearn.linear_model import LogisticRegression\n",
    "from gensim.models.doc2vec import TaggedDocument"
   ]
  },
  {
   "cell_type": "code",
   "execution_count": null,
   "metadata": {
    "ExecuteTime": {
     "end_time": "2019-10-21T22:41:15.777225Z",
     "start_time": "2019-10-21T22:41:15.715127Z"
    },
    "scrolled": true
   },
   "outputs": [],
   "source": [
    "\n",
    "diagnoses_ICD = pd.read_csv('DIAGNOSES_ICD.csv.gz', compression='gzip',\n",
    "                   error_bad_lines=False)\n",
    "diagnoses_ICD.head()"
   ]
  },
  {
   "cell_type": "code",
   "execution_count": null,
   "metadata": {},
   "outputs": [],
   "source": [
    "value=list(zip(list(diagnoses_ICD.SUBJECT_ID),list(diagnoses_ICD.HADM_ID)))"
   ]
  },
  {
   "cell_type": "code",
   "execution_count": null,
   "metadata": {},
   "outputs": [],
   "source": [
    "value=list(set(value))"
   ]
  },
  {
   "cell_type": "code",
   "execution_count": null,
   "metadata": {},
   "outputs": [],
   "source": [
    "diagnoses=[]\n",
    "for v in tqdm(value):\n",
    "    x=diagnoses_ICD[(diagnoses_ICD['SUBJECT_ID'] == v[0]) & (diagnoses_ICD['HADM_ID'] ==v[1]) ]\n",
    "    t=x.sample(1).values\n",
    "    t=list(t[0])\n",
    "    diagnoses.append(t)\n"
   ]
  },
  {
   "cell_type": "code",
   "execution_count": null,
   "metadata": {},
   "outputs": [],
   "source": [
    "diagnoses_df=pd.DataFrame(diagnoses,columns=diagnoses_ICD.columns)"
   ]
  },
  {
   "cell_type": "code",
   "execution_count": null,
   "metadata": {},
   "outputs": [],
   "source": [
    "NOTEEVENTS = pd.read_csv('NOTEEVENTS.csv.gz',compression='gzip',\n",
    "                   error_bad_lines=False,low_memory=False)"
   ]
  },
  {
   "cell_type": "code",
   "execution_count": null,
   "metadata": {},
   "outputs": [],
   "source": [
    "NOTEEVENTS_trim=NOTEEVENTS[['SUBJECT_ID','HADM_ID','TEXT']]"
   ]
  },
  {
   "cell_type": "code",
   "execution_count": null,
   "metadata": {
    "ExecuteTime": {
     "end_time": "2019-10-21T22:41:15.803004Z",
     "start_time": "2019-10-21T22:41:15.779553Z"
    }
   },
   "outputs": [],
   "source": [
    "merged_data=NOTEEVENTS_trim.merge(diagnoses_df,how='left')\n",
    "merged_data=merged_data.dropna()"
   ]
  },
  {
   "cell_type": "code",
   "execution_count": null,
   "metadata": {},
   "outputs": [],
   "source": [
    "merged_clean_trim=merged_data[['TEXT','ICD9_CODE']]\n",
    "merged_clean_trim=merged_clean_trim.dropna()"
   ]
  },
  {
   "cell_type": "code",
   "execution_count": null,
   "metadata": {},
   "outputs": [],
   "source": [
    "g=dict(merged_clean_trim['ICD9_CODE'].value_counts())"
   ]
  },
  {
   "cell_type": "code",
   "execution_count": null,
   "metadata": {},
   "outputs": [],
   "source": [
    "removeable_icd9codes=[]\n",
    "keep_icd9codes=[]\n",
    "for key,value in g.items():\n",
    "    if value<=15000:\n",
    "        removeable_icd9codes.append(key)\n",
    "    else:\n",
    "        keep_icd9codes.append(key)"
   ]
  },
  {
   "cell_type": "code",
   "execution_count": null,
   "metadata": {},
   "outputs": [],
   "source": [
    "merged_clean_trim_reduced=merged_clean_trim[merged_clean_trim.ICD9_CODE.isin(keep_icd9codes)].reset_index()"
   ]
  },
  {
   "cell_type": "code",
   "execution_count": null,
   "metadata": {},
   "outputs": [],
   "source": [
    "merged_clean_trim_reduced=merged_clean_trim_reduced[['TEXT','ICD9_CODE']]"
   ]
  },
  {
   "cell_type": "code",
   "execution_count": null,
   "metadata": {},
   "outputs": [],
   "source": [
    "merged_clean_trim_reduced.to_pickle('final_dataframe.pickle')"
   ]
  },
  {
   "cell_type": "code",
   "execution_count": null,
   "metadata": {},
   "outputs": [],
   "source": [
    "merged_clean_trim_reduced=pd.read_pickle('final_dataframe.pickle')"
   ]
  },
  {
   "cell_type": "code",
   "execution_count": null,
   "metadata": {},
   "outputs": [],
   "source": [
    "merged_clean_trim_reduced.shape"
   ]
  },
  {
   "cell_type": "markdown",
   "metadata": {},
   "source": [
    "## Feature Engineering "
   ]
  },
  {
   "cell_type": "code",
   "execution_count": null,
   "metadata": {},
   "outputs": [],
   "source": [
    "def text_clean(notes):\n",
    "    cleannotes=[]\n",
    "    for i in tqdm(range(notes.shape[0])):\n",
    "        text=notes.iloc[i].values.tolist()[0]\n",
    "        text = re.sub(\"[!@#$+%*:()'-]\", ' ', text)\n",
    "        #text = re.sub('  ',' ',text)\n",
    "        text = re.sub('\\[',' ',text)\n",
    "        text = re.sub('\\]',' ',text)\n",
    "        text = re.sub('\\n\\n\\n', ' ',text)\n",
    "        text = re.sub('\\n\\n', ' ',text)\n",
    "        text = re.sub('\\n',' ',text)\n",
    "        text = re.sub('      ',' ',text)\n",
    "        text = re.sub('   ',' ',text)\n",
    "        text = re.sub('  ',' ',text)\n",
    "        text = re.sub('  ',' ',text)\n",
    "        text = re.sub('\\/',' ',text)\n",
    "        cleannotes.append(text)\n",
    "        \n",
    "    return(cleannotes)"
   ]
  },
  {
   "cell_type": "code",
   "execution_count": null,
   "metadata": {},
   "outputs": [],
   "source": [
    "x=text_clean(merged_clean_trim_reduced)"
   ]
  },
  {
   "cell_type": "code",
   "execution_count": null,
   "metadata": {},
   "outputs": [],
   "source": [
    "merged_clean_trim_reduced['cleaned_notes']=x"
   ]
  },
  {
   "cell_type": "code",
   "execution_count": null,
   "metadata": {},
   "outputs": [],
   "source": [
    "ICD9CODE_class=[]\n",
    "for i in tqdm(range(merged_clean_trim_reduced.shape[0])):\n",
    "    if merged_clean_trim_reduced.iloc[i].values.tolist()[1] in ['4019', '42731', '41401', '4280', '51881']:\n",
    "        ICD9CODE_class.append('Cardio_Issues')\n",
    "    elif merged_clean_trim_reduced.iloc[i].values.tolist()[1] in ['V3001','769','77081']:\n",
    "        ICD9CODE_class.append('NewBorn_Issue')\n",
    "    elif merged_clean_trim_reduced.iloc[i].values.tolist()[1] in ['5990','486','V290','7742','V053']:\n",
    "        ICD9CODE_class.append('Infection')\n",
    "    elif merged_clean_trim_reduced.iloc[i].values.tolist()[1] in ['25000', '2859']:\n",
    "        ICD9CODE_class.append('Disease')\n",
    "    elif merged_clean_trim_reduced.iloc[i].values.tolist()[1] in ['5849']:\n",
    "        ICD9CODE_class.append('Kidney Failure')\n",
    "    else: \n",
    "        print(merged_clean_trim_reduced.iloc[i].values.tolist()[1])"
   ]
  },
  {
   "cell_type": "code",
   "execution_count": null,
   "metadata": {},
   "outputs": [],
   "source": [
    "merged_clean_trim_reduced['ICD9_CLASS']=ICD9CODE_class"
   ]
  },
  {
   "cell_type": "code",
   "execution_count": null,
   "metadata": {},
   "outputs": [],
   "source": [
    "merged_clean_trim_reduced.head()"
   ]
  },
  {
   "cell_type": "code",
   "execution_count": null,
   "metadata": {},
   "outputs": [],
   "source": [
    "merged_clean_trim_reduced.to_pickle('final_dataframe.pickle')"
   ]
  },
  {
   "cell_type": "code",
   "execution_count": 2,
   "metadata": {},
   "outputs": [],
   "source": [
    "merged_clean_trim_reduced=pd.read_pickle('final_dataframe.pickle')"
   ]
  },
  {
   "cell_type": "code",
   "execution_count": 3,
   "metadata": {},
   "outputs": [],
   "source": [
    "train, test = train_test_split(merged_clean_trim_reduced, test_size=0.3, random_state=42)\n",
    "def tokenize_text(text):\n",
    "    tokens = []\n",
    "    for sent in nltk.sent_tokenize(text):\n",
    "        for word in nltk.word_tokenize(sent):\n",
    "            if len(word) < 2:\n",
    "                continue\n",
    "            tokens.append(word.lower())\n",
    "    return (tokens)\n"
   ]
  },
  {
   "cell_type": "code",
   "execution_count": 4,
   "metadata": {},
   "outputs": [],
   "source": [
    "train=train.sample(2000)\n",
    "test=test.sample(100)"
   ]
  },
  {
   "cell_type": "code",
   "execution_count": 5,
   "metadata": {},
   "outputs": [],
   "source": [
    "train_tagged = train.apply(lambda r: TaggedDocument(words=tokenize_text(r['cleaned_notes']), tags=[r.ICD9_CLASS]), axis=1)\n"
   ]
  },
  {
   "cell_type": "code",
   "execution_count": 6,
   "metadata": {},
   "outputs": [],
   "source": [
    "test_tagged = test.apply(lambda r: TaggedDocument(words=tokenize_text(r['cleaned_notes']), tags=[r.ICD9_CLASS]), axis=1)"
   ]
  },
  {
   "cell_type": "code",
   "execution_count": 7,
   "metadata": {},
   "outputs": [],
   "source": [
    "import multiprocessing\n",
    "cores = multiprocessing.cpu_count()\n",
    "model = Doc2Vec(train_tagged, vector_size=300, window=2, min_count=1, workers=cores)"
   ]
  },
  {
   "cell_type": "code",
   "execution_count": 8,
   "metadata": {},
   "outputs": [
    {
     "name": "stderr",
     "output_type": "stream",
     "text": [
      "100%|█████████████████████████████████████████████████████████████████████████████| 2000/2000 [00:10<00:00, 189.76it/s]\n"
     ]
    }
   ],
   "source": [
    "train_tags=[]\n",
    "train_vectors=[]\n",
    "for x in tqdm(train_tagged.values):\n",
    "    for doc in x:\n",
    "        if len(doc)>1:\n",
    "            train_vectors.append(model.infer_vector(doc).tolist())\n",
    "        else:\n",
    "            train_tags.append(doc[0])      "
   ]
  },
  {
   "cell_type": "code",
   "execution_count": 9,
   "metadata": {},
   "outputs": [
    {
     "name": "stderr",
     "output_type": "stream",
     "text": [
      "100%|███████████████████████████████████████████████████████████████████████████████| 100/100 [00:00<00:00, 172.26it/s]\n"
     ]
    }
   ],
   "source": [
    "test_tags=[]\n",
    "test_vectors=[]\n",
    "for x in tqdm(test_tagged.values):\n",
    "    for doc in x:\n",
    "        if len(doc)>1:\n",
    "            test_vectors.append(model.infer_vector(doc).tolist())\n",
    "        else:\n",
    "            test_tags.append(doc[0])  "
   ]
  },
  {
   "cell_type": "code",
   "execution_count": 10,
   "metadata": {},
   "outputs": [],
   "source": [
    "train_df=pd.DataFrame(train_vectors)"
   ]
  },
  {
   "cell_type": "code",
   "execution_count": 11,
   "metadata": {},
   "outputs": [],
   "source": [
    "test_df=pd.DataFrame(test_vectors)"
   ]
  },
  {
   "cell_type": "markdown",
   "metadata": {},
   "source": [
    "## Basic Neural Network"
   ]
  },
  {
   "cell_type": "code",
   "execution_count": 54,
   "metadata": {},
   "outputs": [
    {
     "name": "stdout",
     "output_type": "stream",
     "text": [
      "0.631\n",
      "0.46\n"
     ]
    }
   ],
   "source": [
    "clf = MLPClassifier(solver='lbfgs', alpha=1e-5,activation='tanh',hidden_layer_sizes=(5, 10), max_iter=50,random_state=1)\n",
    "clf.fit(train_df,train_tags)\n",
    "print(clf.score(train_df,train_tags))\n",
    "print(clf.score(test_df,test_tags))\n",
    "y_predict=clf.predict(test_df).tolist()\n",
    "a=confusion_matrix(y_predict,test_tags)"
   ]
  },
  {
   "cell_type": "code",
   "execution_count": 55,
   "metadata": {},
   "outputs": [
    {
     "name": "stderr",
     "output_type": "stream",
     "text": [
      "C:\\Users\\noahd\\Anaconda3\\lib\\site-packages\\sklearn\\metrics\\classification.py:1143: UndefinedMetricWarning: Precision and F-score are ill-defined and being set to 0.0 in labels with no predicted samples.\n",
      "  'precision', 'predicted', average, warn_for)\n",
      "C:\\Users\\noahd\\Anaconda3\\lib\\site-packages\\sklearn\\metrics\\classification.py:1143: UndefinedMetricWarning: Precision and F-score are ill-defined and being set to 0.0 in labels with no predicted samples.\n",
      "  'precision', 'predicted', average, warn_for)\n",
      "C:\\Users\\noahd\\Anaconda3\\lib\\site-packages\\sklearn\\metrics\\classification.py:1143: UndefinedMetricWarning: Precision and F-score are ill-defined and being set to 0.0 in labels with no predicted samples.\n",
      "  'precision', 'predicted', average, warn_for)\n"
     ]
    },
    {
     "name": "stdout",
     "output_type": "stream",
     "text": [
      "               precision    recall  f1-score   support\n",
      "\n",
      "      Disease       0.50      0.92      0.65        36\n",
      "Cardio_Issues       0.00      0.00      0.00        14\n",
      "NewBorn_Issue       0.35      0.48      0.41        23\n",
      "    Infection       0.00      0.00      0.00         9\n",
      "Kidney Failue       0.67      0.11      0.19        18\n",
      "\n",
      "    micro avg       0.46      0.46      0.46       100\n",
      "    macro avg       0.30      0.30      0.25       100\n",
      " weighted avg       0.38      0.46      0.36       100\n",
      "\n"
     ]
    }
   ],
   "source": [
    "from sklearn.metrics import classification_report\n",
    "print(classification_report(test_tags, y_predict, target_names=list(set(test_tags))))"
   ]
  },
  {
   "cell_type": "code",
   "execution_count": 56,
   "metadata": {},
   "outputs": [
    {
     "data": {
      "text/plain": [
       "(5.0, 0.0)"
      ]
     },
     "execution_count": 56,
     "metadata": {},
     "output_type": "execute_result"
    },
    {
     "data": {
      "image/png": "[encoded data removed]",
      "text/plain": [
       "<Figure size 432x288 with 2 Axes>"
      ]
     },
     "metadata": {
      "needs_background": "light"
     },
     "output_type": "display_data"
    }
   ],
   "source": [
    "from pandas import DataFrame\n",
    "df_cm = DataFrame(a, index=list(set(test_tags)), columns=list(set(test_tags)))\n",
    "import seaborn as sn\n",
    "\n",
    "ax = sn.heatmap(df_cm, cmap='Oranges', annot=True)\n",
    "bottom, top = ax.get_ylim()\n",
    "ax.set_title('Neural Network ICD9 Code Category Confusion Matrix')\n",
    "ax.set_ylim(bottom + 0.5, top - 0.5)"
   ]
  },
  {
   "cell_type": "markdown",
   "metadata": {},
   "source": [
    "## Random Forest"
   ]
  },
  {
   "cell_type": "code",
   "execution_count": 57,
   "metadata": {},
   "outputs": [
    {
     "name": "stdout",
     "output_type": "stream",
     "text": [
      "0.5965\n",
      "0.47\n"
     ]
    }
   ],
   "source": [
    "clf = RandomForestClassifier(n_estimators=100, max_depth=2,random_state=0)\n",
    "clf.fit(train_df,train_tags)\n",
    "print(clf.score(train_df,train_tags))\n",
    "print(clf.score(test_df,test_tags))\n",
    "y_predict=clf.predict(test_df).tolist()\n",
    "a=confusion_matrix(y_predict,test_tags)"
   ]
  },
  {
   "cell_type": "code",
   "execution_count": 58,
   "metadata": {},
   "outputs": [
    {
     "name": "stderr",
     "output_type": "stream",
     "text": [
      "C:\\Users\\noahd\\Anaconda3\\lib\\site-packages\\sklearn\\metrics\\classification.py:1143: UndefinedMetricWarning: Precision and F-score are ill-defined and being set to 0.0 in labels with no predicted samples.\n",
      "  'precision', 'predicted', average, warn_for)\n",
      "C:\\Users\\noahd\\Anaconda3\\lib\\site-packages\\sklearn\\metrics\\classification.py:1143: UndefinedMetricWarning: Precision and F-score are ill-defined and being set to 0.0 in labels with no predicted samples.\n",
      "  'precision', 'predicted', average, warn_for)\n",
      "C:\\Users\\noahd\\Anaconda3\\lib\\site-packages\\sklearn\\metrics\\classification.py:1143: UndefinedMetricWarning: Precision and F-score are ill-defined and being set to 0.0 in labels with no predicted samples.\n",
      "  'precision', 'predicted', average, warn_for)\n"
     ]
    },
    {
     "name": "stdout",
     "output_type": "stream",
     "text": [
      "               precision    recall  f1-score   support\n",
      "\n",
      "      Disease       0.49      0.97      0.65        36\n",
      "Cardio_Issues       0.00      0.00      0.00        14\n",
      "NewBorn_Issue       0.43      0.52      0.47        23\n",
      "    Infection       0.00      0.00      0.00         9\n",
      "Kidney Failue       0.00      0.00      0.00        18\n",
      "\n",
      "    micro avg       0.47      0.47      0.47       100\n",
      "    macro avg       0.18      0.30      0.22       100\n",
      " weighted avg       0.27      0.47      0.34       100\n",
      "\n"
     ]
    }
   ],
   "source": [
    "from sklearn.metrics import classification_report\n",
    "print(classification_report(test_tags, y_predict, target_names=list(set(test_tags))))"
   ]
  },
  {
   "cell_type": "code",
   "execution_count": 59,
   "metadata": {},
   "outputs": [
    {
     "data": {
      "text/plain": [
       "(5.0, 0.0)"
      ]
     },
     "execution_count": 59,
     "metadata": {},
     "output_type": "execute_result"
    },
    {
     "data": {
      "image/png": "[encoded data removed]",
      "text/plain": [
       "<Figure size 432x288 with 2 Axes>"
      ]
     },
     "metadata": {
      "needs_background": "light"
     },
     "output_type": "display_data"
    }
   ],
   "source": [
    "from pandas import DataFrame\n",
    "df_cm = DataFrame(a, index=list(set(test_tags)), columns=list(set(test_tags)))\n",
    "import seaborn as sn\n",
    "\n",
    "ax = sn.heatmap(df_cm, cmap='Oranges', annot=True)\n",
    "bottom, top = ax.get_ylim()\n",
    "ax.set_title('Random Forest ICD9 Code Category Confusion Matrix')\n",
    "ax.set_ylim(bottom + 0.5, top - 0.5)"
   ]
  },
  {
   "cell_type": "markdown",
   "metadata": {},
   "source": [
    "## Gradient Boost Classifer"
   ]
  },
  {
   "cell_type": "code",
   "execution_count": 60,
   "metadata": {},
   "outputs": [
    {
     "name": "stdout",
     "output_type": "stream",
     "text": [
      "0.9985\n",
      "0.47\n"
     ]
    }
   ],
   "source": [
    "from sklearn.ensemble import GradientBoostingClassifier\n",
    "clf = GradientBoostingClassifier(n_estimators=20, learning_rate=.5, max_features=10, max_depth=5, random_state=0)\n",
    "clf.fit(train_df,train_tags)\n",
    "print(clf.score(train_df,train_tags))\n",
    "print(clf.score(test_df,test_tags))\n",
    "y_predict=clf.predict(test_df).tolist()\n",
    "a=confusion_matrix(y_predict,test_tags)"
   ]
  },
  {
   "cell_type": "code",
   "execution_count": 61,
   "metadata": {},
   "outputs": [
    {
     "name": "stdout",
     "output_type": "stream",
     "text": [
      "               precision    recall  f1-score   support\n",
      "\n",
      "      Disease       0.52      0.81      0.63        36\n",
      "Cardio_Issues       0.40      0.14      0.21        14\n",
      "NewBorn_Issue       0.39      0.52      0.44        23\n",
      "    Infection       0.00      0.00      0.00         9\n",
      "Kidney Failue       0.57      0.22      0.32        18\n",
      "\n",
      "    micro avg       0.47      0.47      0.47       100\n",
      "    macro avg       0.38      0.34      0.32       100\n",
      " weighted avg       0.43      0.47      0.42       100\n",
      "\n"
     ]
    }
   ],
   "source": [
    "from sklearn.metrics import classification_report\n",
    "print(classification_report(test_tags, y_predict, target_names=list(set(test_tags))))"
   ]
  },
  {
   "cell_type": "code",
   "execution_count": 62,
   "metadata": {},
   "outputs": [
    {
     "data": {
      "text/plain": [
       "(5.0, 0.0)"
      ]
     },
     "execution_count": 62,
     "metadata": {},
     "output_type": "execute_result"
    },
    {
     "data": {
      "image/png": "[encoded data removed]",
      "text/plain": [
       "<Figure size 432x288 with 2 Axes>"
      ]
     },
     "metadata": {
      "needs_background": "light"
     },
     "output_type": "display_data"
    }
   ],
   "source": [
    "from pandas import DataFrame\n",
    "df_cm = DataFrame(a, index=list(set(test_tags)), columns=list(set(test_tags)))\n",
    "import seaborn as sn\n",
    "\n",
    "ax = sn.heatmap(df_cm, cmap='Oranges', annot=True)\n",
    "bottom, top = ax.get_ylim()\n",
    "ax.set_title('Gradient Boost ICD9 Code Category Confusion Matrix')\n",
    "ax.set_ylim(bottom + 0.5, top - 0.5)"
   ]
  },
  {
   "cell_type": "code",
   "execution_count": null,
   "metadata": {},
   "outputs": [],
   "source": []
  }
 ],
 "metadata": {
  "kernelspec": {
   "display_name": "Python 3",
   "language": "python",
   "name": "python3"
  },
  "language_info": {
   "codemirror_mode": {
    "name": "ipython",
    "version": 3
   },
   "file_extension": ".py",
   "mimetype": "text/x-python",
   "name": "python",
   "nbconvert_exporter": "python",
   "pygments_lexer": "ipython3",
   "version": "3.7.3"
  }
 },
 "nbformat": 4,
 "nbformat_minor": 2
}
